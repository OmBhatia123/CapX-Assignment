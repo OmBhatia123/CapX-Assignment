{
 "cells": [
  {
   "cell_type": "markdown",
   "id": "8cc5df7e-a8f3-414e-bc90-05e094cbbedb",
   "metadata": {},
   "source": [
    "#### Import Libraries"
   ]
  },
  {
   "cell_type": "code",
   "execution_count": 1,
   "id": "9d109ffc-1fde-4065-8f88-f4c98dc21563",
   "metadata": {},
   "outputs": [],
   "source": [
    "import tweepy\n",
    "import pandas as pd\n",
    "import re\n",
    "from nltk.corpus import stopwords\n",
    "from nltk.tokenize import word_tokenize\n",
    "from textblob import TextBlob\n",
    "from sklearn.feature_extraction.text import CountVectorizer\n",
    "from sklearn.model_selection import train_test_split\n",
    "from sklearn.ensemble import RandomForestClassifier\n",
    "from sklearn.metrics import classification_report, accuracy_score, confusion_matrix\n",
    "import nltk"
   ]
  },
  {
   "cell_type": "code",
   "execution_count": 2,
   "id": "9e1b8a22-3a16-449b-83e2-3ae73148730b",
   "metadata": {},
   "outputs": [],
   "source": [
    "import warnings\n",
    "warnings.filterwarnings('ignore')"
   ]
  },
  {
   "cell_type": "markdown",
   "id": "9df2b395-0530-4ae1-a209-793c5b20f99a",
   "metadata": {},
   "source": [
    "#### Set Up Twitter API"
   ]
  },
  {
   "cell_type": "code",
   "execution_count": 3,
   "id": "cb77db85-a68c-48db-a620-7ad720f97b3f",
   "metadata": {},
   "outputs": [],
   "source": [
    "# Authenticate Twitter API\n",
    "API_KEY = \"wfXbapudLTPDJ9gZjdKIJppTV\"\n",
    "API_SECRET = \"C55zVwlHmJNtlXUqGYzMmiHhk1FdPyy6KM3owoD0AvSvoMi12w\"\n",
    "ACCESS_TOKEN = \"1540206983005216769-WhQknWGuqYzQ3IX7jaynARPiiS2Eu1\"\n",
    "ACCESS_SECRET = \"IN5dRMEz4Kse99zZMKGBFpm1RjAhHXjMqI5EYy3ojJ0RB\"\n",
    "\n",
    "auth = tweepy.OAuth1UserHandler(API_KEY, API_SECRET, ACCESS_TOKEN, ACCESS_SECRET)\n",
    "api = tweepy.API(auth)"
   ]
  },
  {
   "cell_type": "markdown",
   "id": "8abe8b7f-15a2-4add-93cb-e3ea9a4ad7dd",
   "metadata": {},
   "source": [
    "#### Data Scraping"
   ]
  },
  {
   "cell_type": "code",
   "execution_count": 4,
   "id": "2866b965-2fbf-477c-ab66-92019c5b3c75",
   "metadata": {},
   "outputs": [
    {
     "name": "stdout",
     "output_type": "stream",
     "text": [
      "                                               Tweet\n",
      "0  @Soaringeagle45 @cox_kandi61354 Here you go \\n...\n",
      "1  @nid_rockz For these type of futuristic growth...\n",
      "2  RT @KobeissiLetter: The US stock market is MAS...\n",
      "3  RT @KobeissiLetter: The US stock market is MAS...\n",
      "4  RT @TrackInsiders_: Rep. Dan Crenshaw went on ...\n"
     ]
    }
   ],
   "source": [
    "import time\n",
    "import pandas as pd\n",
    "import tweepy\n",
    "\n",
    "# Assuming the client is authenticated as follows:\n",
    "client = tweepy.Client(bearer_token = \"AAAAAAAAAAAAAAAAAAAAAGBKxQEAAAAARrQqHqNcAeLFMW4ejtEl6CSPGWQ%3DgwZSGBdeMRDwa4hmUO5PdXA3atxmWxAMmIQaZfqh5CqsJN6Gn4\")\n",
    "\n",
    "def fetch_tweets_v2(keyword, count = 100):\n",
    "    query = f\"{keyword} lang: en\"\n",
    "    tweets = []\n",
    "    try:\n",
    "        # Request tweets\n",
    "        response = client.search_recent_tweets(query = query, max_results = min(count, 100))\n",
    "        if response.data:\n",
    "            tweets.extend([tweet.text for tweet in response.data])\n",
    "        time.sleep(1)  # Delay between requests to avoid rate limits\n",
    "    except tweepy.TooManyRequests:\n",
    "        print(\"Rate limit exceeded. Waiting for 2 minutes...\")\n",
    "        time.sleep(2 * 60)  # Wait for 5 minutes\n",
    "    return pd.DataFrame(tweets, columns = [\"Tweet\"])\n",
    "\n",
    "# Example usage\n",
    "stock_data = fetch_tweets_v2(keyword = \"Stock Market\", count = 10)\n",
    "print(stock_data.head())"
   ]
  },
  {
   "cell_type": "markdown",
   "id": "4061c55d-6e6e-4d77-85fa-1a4aca928c9c",
   "metadata": {},
   "source": [
    "#### Data Cleaning and Sentiment Analysis"
   ]
  },
  {
   "cell_type": "code",
   "execution_count": 5,
   "id": "ff5d09d0-93b3-4ac6-afde-769495fe3218",
   "metadata": {},
   "outputs": [
    {
     "name": "stdout",
     "output_type": "stream",
     "text": [
      "                                       Tweet  \\\n",
      "0        I love the stock market! #investing   \n",
      "1      The market is crashing, terrible day!   \n",
      "2  Stocks are unpredictable but interesting.   \n",
      "3                What a bullish trend today!   \n",
      "4           The bearish trend is concerning.   \n",
      "\n",
      "                      Cleaned_Tweet  Sentiment  \n",
      "0       love stock market investing   0.500000  \n",
      "1      market crashing terrible day  -1.000000  \n",
      "2  stocks unpredictable interesting   0.166667  \n",
      "3               bullish trend today   0.000000  \n",
      "4          bearish trend concerning   0.000000  \n"
     ]
    },
    {
     "name": "stderr",
     "output_type": "stream",
     "text": [
      "[nltk_data] Downloading package stopwords to\n",
      "[nltk_data]     C:\\Users\\ombha\\AppData\\Roaming\\nltk_data...\n",
      "[nltk_data]   Package stopwords is already up-to-date!\n",
      "[nltk_data] Downloading package punkt to\n",
      "[nltk_data]     C:\\Users\\ombha\\AppData\\Roaming\\nltk_data...\n",
      "[nltk_data]   Package punkt is already up-to-date!\n",
      "[nltk_data] Downloading package punkt_tab to\n",
      "[nltk_data]     C:\\Users\\ombha\\AppData\\Roaming\\nltk_data...\n",
      "[nltk_data]   Package punkt_tab is already up-to-date!\n"
     ]
    }
   ],
   "source": [
    "import re\n",
    "import pandas as pd\n",
    "import nltk\n",
    "from nltk.corpus import stopwords\n",
    "from nltk.tokenize import word_tokenize\n",
    "from textblob import TextBlob\n",
    "\n",
    "# Download required NLTK resources\n",
    "nltk.download(\"stopwords\")\n",
    "nltk.download(\"punkt\")  # Punkt tokenizer\n",
    "nltk.download('punkt_tab') \n",
    "\n",
    "# Set up stop words\n",
    "stop_words = set(stopwords.words(\"english\"))\n",
    "\n",
    "# Function to clean text\n",
    "def clean_text(text):\n",
    "    # Remove URLs\n",
    "    text = re.sub(r\"http\\S+|www\\S+|https\\S+\", \"\", text, flags = re.MULTILINE)\n",
    "    # Remove mentions and hashtags\n",
    "    text = re.sub(r\"\\@\\w+|\\#\", \"\", text)\n",
    "    # Remove special characters and punctuation\n",
    "    text = re.sub(r\"[^\\w\\s]\", \"\", text)\n",
    "    # Convert to lowercase\n",
    "    text = text.lower()\n",
    "    # Tokenize and remove stopwords\n",
    "    tokens = word_tokenize(text)\n",
    "    return \" \".join([word for word in tokens if word not in stop_words])\n",
    "\n",
    "# Function to analyze sentiment\n",
    "def analyze_sentiment(text):\n",
    "    return TextBlob(text).sentiment.polarity\n",
    "\n",
    "# Example dataset\n",
    "data = {\"Tweet\": [\"I love the stock market! #investing\", \n",
    "                  \"The market is crashing, terrible day!\", \n",
    "                  \"Stocks are unpredictable but interesting.\",\n",
    "                  \"What a bullish trend today!\", \n",
    "                  \"The bearish trend is concerning.\"]}\n",
    "stock_data = pd.DataFrame(data)\n",
    "\n",
    "# Apply cleaning and sentiment analysis\n",
    "stock_data[\"Cleaned_Tweet\"] = stock_data[\"Tweet\"].apply(clean_text)\n",
    "stock_data[\"Sentiment\"] = stock_data[\"Cleaned_Tweet\"].apply(analyze_sentiment)\n",
    "\n",
    "# Display the results\n",
    "print(stock_data)"
   ]
  },
  {
   "cell_type": "markdown",
   "id": "c9b49d92-61da-4ed8-81be-e973b0b267f3",
   "metadata": {},
   "source": [
    "#### Machine Learning Model"
   ]
  },
  {
   "cell_type": "code",
   "execution_count": 6,
   "id": "18ee2d67-dfdd-4a24-bd8a-4de1cb034ba6",
   "metadata": {},
   "outputs": [
    {
     "name": "stdout",
     "output_type": "stream",
     "text": [
      "              precision    recall  f1-score   support\n",
      "\n",
      "           0       0.00      0.00      0.00       1.0\n",
      "           1       0.00      0.00      0.00       0.0\n",
      "\n",
      "    accuracy                           0.00       1.0\n",
      "   macro avg       0.00      0.00      0.00       1.0\n",
      "weighted avg       0.00      0.00      0.00       1.0\n",
      "\n",
      "F1 Score: 0.0\n",
      "Precision-Recall curve:\n",
      "Precision: [0. 1.]\n",
      "Recall: [1. 0.]\n"
     ]
    }
   ],
   "source": [
    "import pandas as pd\n",
    "from sklearn.model_selection import train_test_split\n",
    "from sklearn.feature_extraction.text import CountVectorizer\n",
    "from sklearn.ensemble import RandomForestClassifier\n",
    "from sklearn.metrics import classification_report, f1_score, precision_recall_curve\n",
    "from imblearn.over_sampling import SMOTE\n",
    "\n",
    "# Simulate sentiment labels: 1 for positive stock movement, 0 for negative\n",
    "stock_data[\"Label\"] = (stock_data[\"Sentiment\"] > 0).astype(int)\n",
    "\n",
    "# Feature extraction\n",
    "X = stock_data[\"Cleaned_Tweet\"]\n",
    "y = stock_data[\"Label\"]\n",
    "\n",
    "# Convert text data into a matrix of token counts (Bag-of-Words)\n",
    "vectorizer = CountVectorizer(max_features = 5000)\n",
    "X_vectorized = vectorizer.fit_transform(X)\n",
    "\n",
    "# Train-test split\n",
    "X_train, X_test, y_train, y_test = train_test_split(X_vectorized, y, test_size = 0.2, random_state = 42)\n",
    "\n",
    "# Use SMOTE to balance the dataset (if needed)\n",
    "smote = SMOTE(random_state = 42)\n",
    "X_train_smote, y_train_smote = smote.fit_resample(X_train, y_train)\n",
    "\n",
    "# Train the model with class_weight='balanced' to handle imbalance\n",
    "model = RandomForestClassifier(class_weight = 'balanced', random_state = 42)\n",
    "model.fit(X_train_smote, y_train_smote)\n",
    "\n",
    "# Predict and evaluate\n",
    "y_pred = model.predict(X_test)\n",
    "\n",
    "# Print classification report for model evaluation\n",
    "print(classification_report(y_test, y_pred))\n",
    "\n",
    "# Evaluate with F1-score\n",
    "f1 = f1_score(y_test, y_pred)\n",
    "print(f\"F1 Score: {f1}\")\n",
    "\n",
    "# Precision-Recall curve (to evaluate model performance in imbalanced settings)\n",
    "precision, recall, _ = precision_recall_curve(y_test, model.predict_proba(X_test)[:, 1])\n",
    "print(\"Precision-Recall curve:\")\n",
    "print(f\"Precision: {precision}\")\n",
    "print(f\"Recall: {recall}\")"
   ]
  },
  {
   "cell_type": "markdown",
   "id": "59f73f40-1a4b-4752-8c11-f924177fd673",
   "metadata": {},
   "source": [
    "#### Evaluate Model"
   ]
  },
  {
   "cell_type": "code",
   "execution_count": 7,
   "id": "815c2738-1612-4eb4-9dd5-1d21035cae60",
   "metadata": {},
   "outputs": [
    {
     "name": "stdout",
     "output_type": "stream",
     "text": [
      "Accuracy: 0.0\n",
      "Confusion Matrix:\n",
      "[[0 1]\n",
      " [0 0]]\n"
     ]
    }
   ],
   "source": [
    "accuracy = accuracy_score(y_test, y_pred)\n",
    "conf_matrix = confusion_matrix(y_test, y_pred)\n",
    "\n",
    "print(f\"Accuracy: {accuracy}\")\n",
    "print(\"Confusion Matrix:\")\n",
    "print(conf_matrix)"
   ]
  },
  {
   "cell_type": "markdown",
   "id": "e07dff0a-8f80-400f-9db7-2b668fe633d5",
   "metadata": {},
   "source": [
    "#### Visualize Sentiment"
   ]
  },
  {
   "cell_type": "code",
   "execution_count": 8,
   "id": "9926ce51-4c7a-4678-bccc-f251fbaf980e",
   "metadata": {},
   "outputs": [
    {
     "data": {
      "image/png": "[encoded data removed]",
      "text/plain": [
       "<Figure size 640x480 with 1 Axes>"
      ]
     },
     "metadata": {},
     "output_type": "display_data"
    }
   ],
   "source": [
    "import matplotlib.pyplot as plt\n",
    "\n",
    "stock_data[\"Sentiment_Label\"] = stock_data[\"Sentiment\"].apply(lambda x: \"Positive\" if x > 0 else \"Negative\")\n",
    "\n",
    "sentiment_counts = stock_data[\"Sentiment_Label\"].value_counts()\n",
    "sentiment_counts.plot(kind=\"bar\", color = [\"green\", \"red\"])\n",
    "plt.title(\"Sentiment Distribution\")\n",
    "plt.xlabel(\"Sentiment\")\n",
    "plt.ylabel(\"Frequency\")\n",
    "plt.show()"
   ]
  }
 ],
 "metadata": {
  "kernelspec": {
   "display_name": "Python 3 (ipykernel)",
   "language": "python",
   "name": "python3"
  },
  "language_info": {
   "codemirror_mode": {
    "name": "ipython",
    "version": 3
   },
   "file_extension": ".py",
   "mimetype": "text/x-python",
   "name": "python",
   "nbconvert_exporter": "python",
   "pygments_lexer": "ipython3",
   "version": "3.9.20"
  }
 },
 "nbformat": 4,
 "nbformat_minor": 5
}
